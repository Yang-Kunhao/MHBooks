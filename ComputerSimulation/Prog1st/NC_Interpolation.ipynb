{
 "cells": [
  {
   "cell_type": "markdown",
   "metadata": {},
   "source": [
    "# 補間"
   ]
  },
  {
   "cell_type": "code",
   "execution_count": null,
   "metadata": {},
   "outputs": [],
   "source": [
    "# -*- coding: utf-8 -*-\n",
    "import numpy as np\n",
    "import scipy as sp\n",
    "import scipy.stats\n",
    "\n",
    "import matplotlib.pyplot as plt\n",
    "%matplotlib inline"
   ]
  },
  {
   "cell_type": "code",
   "execution_count": null,
   "metadata": {},
   "outputs": [],
   "source": [
    "# numpyのみならずscipyの確率の関数の初期値を定める\n",
    "np.random.seed(123)"
   ]
  },
  {
   "cell_type": "markdown",
   "metadata": {},
   "source": [
    "カーブフィッティング，多項式使用"
   ]
  },
  {
   "cell_type": "code",
   "execution_count": null,
   "metadata": {},
   "outputs": [],
   "source": [
    "num = 20\n",
    "x = np.arange(0,num,1)\n",
    "y = 1.2*x + sp.stats.uniform(loc=-10.0, scale=10.0).rvs(num)\n",
    "\n",
    "plt.scatter(x, y, color='k')\n",
    "plt.grid()\n",
    "plt.xlabel('x')\n",
    "plt.ylabel('y')\n",
    "\n",
    "plt.savefig('fig_NC_Interpolation_01.png')"
   ]
  },
  {
   "cell_type": "markdown",
   "metadata": {},
   "source": [
    "#### カーブフィッティング\n",
    "多項式を用いる。関数内を他の非線形関数に置き換えることも可能である。"
   ]
  },
  {
   "cell_type": "code",
   "execution_count": null,
   "metadata": {},
   "outputs": [],
   "source": [
    "p5  = np.polyfit(x, y, deg=5)\n",
    "p15 = np.polyfit(x, y, deg=13)\n",
    "xx = np.linspace(np.min(x), np.max(x), 200)\n",
    "y5 = np.polyval(p5, xx)\n",
    "y15 = np.polyval(p15, xx)"
   ]
  },
  {
   "cell_type": "code",
   "execution_count": null,
   "metadata": {},
   "outputs": [],
   "source": [
    "plt.scatter(x, y, color='k')\n",
    "plt.plot(xx, y5,  label='deg=5')\n",
    "plt.plot(xx, y15, label='deg15')\n",
    "\n",
    "plt.xlabel('x')\n",
    "plt.ylabel('y')\n",
    "plt.legend()\n",
    "plt.grid()\n",
    "plt.savefig('fig_NC_Interpolation_02.png')"
   ]
  },
  {
   "cell_type": "markdown",
   "metadata": {},
   "source": [
    "#### 付録：ルンゲ現象\n",
    "https://en.wikipedia.org/wiki/Runge%27s_phenomenon"
   ]
  },
  {
   "cell_type": "code",
   "execution_count": null,
   "metadata": {},
   "outputs": [],
   "source": [
    "num = 11\n",
    "x2 = np.linspace(-1, 1, num)\n",
    "y2 = (2/(1 + 16 * x2 ** 2)) - 1\n",
    "\n",
    "p = np.polyfit(x2, y2, deg=10)\n",
    "xx = np.linspace(-1, 1, 200)\n",
    "yy = np.polyval(p, xx)\n",
    "\n",
    "plt.scatter(x2, y2, c='k')\n",
    "plt.plot(xx, yy, c='g')\n",
    "\n",
    "plt.xlabel('x')\n",
    "plt.ylabel('y')\n",
    "plt.grid()"
   ]
  },
  {
   "cell_type": "code",
   "execution_count": null,
   "metadata": {},
   "outputs": [],
   "source": []
  }
 ],
 "metadata": {
  "kernelspec": {
   "display_name": "Python 3",
   "language": "python",
   "name": "python3"
  },
  "language_info": {
   "codemirror_mode": {
    "name": "ipython",
    "version": 3
   },
   "file_extension": ".py",
   "mimetype": "text/x-python",
   "name": "python",
   "nbconvert_exporter": "python",
   "pygments_lexer": "ipython3",
   "version": "3.7.4"
  }
 },
 "nbformat": 4,
 "nbformat_minor": 4
}
