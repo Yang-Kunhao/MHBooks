{
 "cells": [
  {
   "cell_type": "markdown",
   "metadata": {},
   "source": [
    "# solve_ivpを用いた常微分方程式の解法\n",
    "solve_ivp:Solving initial value problems<br>\n",
    "https://docs.scipy.org/doc/scipy/reference/generated/scipy.integrate.solve_ivp.html<br>\n",
    "解法のうちRadauの説明：https://en.wikipedia.org/wiki/List_of_Runge%E2%80%93Kutta_methods"
   ]
  },
  {
   "cell_type": "code",
   "execution_count": null,
   "metadata": {},
   "outputs": [],
   "source": [
    "# -*- coding: utf-8 -*-\n",
    "import numpy as np  \n",
    "from scipy.integrate import solve_ivp  \n",
    "import matplotlib.pyplot as plt  \n",
    "\n",
    "%matplotlib inline"
   ]
  },
  {
   "cell_type": "code",
   "execution_count": null,
   "metadata": {},
   "outputs": [],
   "source": [
    "def dFunc(time, x, mass, damper, spring, u):\n",
    "    dx0 = x[1]\n",
    "    dx1 = (-1/mass)*(damper*x[1] + spring*x[0] - u) \n",
    "    return [dx0, dx1]"
   ]
  },
  {
   "cell_type": "code",
   "execution_count": null,
   "metadata": {},
   "outputs": [],
   "source": [
    "x0 = [0.0, 0.0]\n",
    "u = 1.0\n",
    "mass, damper, spring = 4.0, 1.0, 1.0\n",
    "T_END = 20"
   ]
  },
  {
   "cell_type": "code",
   "execution_count": null,
   "metadata": {},
   "outputs": [],
   "source": [
    "# Solve ODE  \n",
    "sol = solve_ivp(fun=dFunc, t_span=[0, T_END], y0=x0, method='RK45', args=[mass, damper, spring, u], dense_output=True)  "
   ]
  },
  {
   "cell_type": "code",
   "execution_count": null,
   "metadata": {},
   "outputs": [],
   "source": [
    "print(type(sol))\n",
    "print(sol)"
   ]
  },
  {
   "cell_type": "code",
   "execution_count": null,
   "metadata": {},
   "outputs": [],
   "source": [
    "#時間の出力\n",
    "print(sol.t.size)\n",
    "print(sol.t)"
   ]
  },
  {
   "cell_type": "code",
   "execution_count": null,
   "metadata": {},
   "outputs": [],
   "source": [
    "#yの出力\n",
    "print(sol.y[0].size, sol.y[1].size)\n",
    "print(sol.y)"
   ]
  },
  {
   "cell_type": "code",
   "execution_count": null,
   "metadata": {},
   "outputs": [],
   "source": [
    "tc = np.linspace(0, T_END, 100)  \n",
    "yc = sol.sol(tc)\n",
    "print(len(tc), len(yc))"
   ]
  },
  {
   "cell_type": "code",
   "execution_count": null,
   "metadata": {
    "scrolled": true
   },
   "outputs": [],
   "source": [
    "fig, ax = plt.subplots(ncols=2, figsize=(12,4))\n",
    "\n",
    "ax[0].plot(sol.t, sol.y.T)\n",
    "ax[0].set_xlabel('t')\n",
    "ax[0].set_ylabel('x(t), v(t)')\n",
    "ax[0].grid()\n",
    "\n",
    "ax[1].plot(tc, yc[0].T, label='x')\n",
    "ax[1].plot(tc, yc[1].T, label='v')\n",
    "ax[1].set_xlabel('t')\n",
    "ax[1].set_ylabel('x(t), v(t)')\n",
    "ax[1].grid()\n",
    "ax[1].legend()\n",
    "\n",
    "\n",
    "#plt.savefig('fig_NC_ODE.png')\n",
    "plt.show()"
   ]
  },
  {
   "cell_type": "code",
   "execution_count": null,
   "metadata": {},
   "outputs": [],
   "source": []
  }
 ],
 "metadata": {
  "kernelspec": {
   "display_name": "Python 3",
   "language": "python",
   "name": "python3"
  },
  "language_info": {
   "codemirror_mode": {
    "name": "ipython",
    "version": 3
   },
   "file_extension": ".py",
   "mimetype": "text/x-python",
   "name": "python",
   "nbconvert_exporter": "python",
   "pygments_lexer": "ipython3",
   "version": "3.7.4"
  }
 },
 "nbformat": 4,
 "nbformat_minor": 4
}
