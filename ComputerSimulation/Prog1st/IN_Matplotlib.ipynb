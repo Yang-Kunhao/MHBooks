{
 "cells": [
  {
   "cell_type": "markdown",
   "metadata": {},
   "source": [
    "# matplotlibを用いて複数のプロット，グラフを描く\n",
    "subplotsのパラメータ:<br>\n",
    "https://matplotlib.org/api/_as_gen/matplotlib.pyplot.subplots.html <br>\n",
    "\n",
    "このパラメータのうち，更なるもの（figsize[inch, inch], facecolor, edgecolorなど）は次：<br>\n",
    "https://matplotlib.org/api/_as_gen/matplotlib.pyplot.figure.html<br>\n"
   ]
  },
  {
   "cell_type": "code",
   "execution_count": null,
   "metadata": {},
   "outputs": [],
   "source": [
    "# -*- coding: utf-8 -*-\n",
    "import numpy as np\n",
    "\n",
    "import matplotlib.pyplot as plt\n",
    "%matplotlib inline"
   ]
  },
  {
   "cell_type": "code",
   "execution_count": null,
   "metadata": {},
   "outputs": [],
   "source": [
    "x = np.linspace(-3, 3, 20)\n",
    "y1 = x\n",
    "y2 = x ** 2\n",
    "y3 = x ** 3\n",
    "y4 = x ** 4"
   ]
  },
  {
   "cell_type": "code",
   "execution_count": null,
   "metadata": {
    "scrolled": true
   },
   "outputs": [],
   "source": [
    "fig = plt.subplots(figsize=(10,3)) # size [inch,inch]\n",
    "plt.plot(x,y2, c='k', label='y2')\n",
    "plt.plot(x,y3, c='r', label='y1', linestyle='dashed')\n",
    "\n",
    "plt.xlabel('x')\n",
    "plt.ylabel('y')\n",
    "plt.title('Example')\n",
    "plt.grid()\n",
    "plt.legend(loc='lower right')\n",
    "\n",
    "#plt.tight_layout() # xlabelの欠落を防ぐ方法１\n",
    "#plt.savefig('fig_Intro_MultipleGraph_1.png', bbox_inches='tight')\n",
    "plt.show()"
   ]
  },
  {
   "cell_type": "markdown",
   "metadata": {},
   "source": [
    "#### マルチプロット　１番目の方法"
   ]
  },
  {
   "cell_type": "code",
   "execution_count": null,
   "metadata": {
    "scrolled": true
   },
   "outputs": [],
   "source": [
    "fig, axs = plt.subplots(nrows=2, ncols=2, figsize=(12, 8))\n",
    " \n",
    "axs[0,0].plot(x, y1, label='y1') # upper left\n",
    "axs[0,1].plot(x, y2) # upper right\n",
    "axs[1,0].plot(x, y3) # lower left\n",
    "axs[1,1].plot(x, y4) # lower right\n",
    "\n",
    "axs[0,0].set_xlabel('x')\n",
    "axs[0,0].set_ylabel('y')\n",
    "axs[0,0].grid()\n",
    "axs[0,0].legend()\n",
    "\n",
    "\n",
    "#plt.savefig('fig_Intro_MultipleGraph_2.png', bbox_inches='tight')\n",
    "plt.show()"
   ]
  },
  {
   "cell_type": "markdown",
   "metadata": {},
   "source": [
    "#### マルチプロット　2番目の方法"
   ]
  },
  {
   "cell_type": "code",
   "execution_count": null,
   "metadata": {
    "scrolled": true
   },
   "outputs": [],
   "source": [
    "fig, ((ax1, ax2), (ax3, ax4)) = plt.subplots(nrows=2, ncols=2, figsize=(6,4))\n",
    "\n",
    "ax1.plot(x, y1) # upper left\n",
    "ax2.plot(x, y2) # upper right\n",
    "ax3.plot(x, y3) # lower left\n",
    "ax4.plot(x, y4) # lower right\n",
    " \n",
    "#plt.savefig('fig_Intro_MultipleGraph_3.png', bbox_inches='tight')\n",
    "plt.show()"
   ]
  },
  {
   "cell_type": "markdown",
   "metadata": {},
   "source": [
    "## 文字コードの説明\n",
    "https://docs.python.org/2.4/lib/standard-encodings.html<br>\n",
    "PEP 263 -- Defining Python Source Code Encodings<br>\n",
    "https://www.python.org/dev/peps/pep-0263/"
   ]
  },
  {
   "cell_type": "markdown",
   "metadata": {},
   "source": [
    "## Built-in magic commands\n",
    "https://ipython.readthedocs.io/en/stable/interactive/magics.html"
   ]
  },
  {
   "cell_type": "code",
   "execution_count": null,
   "metadata": {},
   "outputs": [],
   "source": [
    "%lsmagic"
   ]
  },
  {
   "cell_type": "code",
   "execution_count": null,
   "metadata": {},
   "outputs": [],
   "source": []
  }
 ],
 "metadata": {
  "kernelspec": {
   "display_name": "Python 3",
   "language": "python",
   "name": "python3"
  },
  "language_info": {
   "codemirror_mode": {
    "name": "ipython",
    "version": 3
   },
   "file_extension": ".py",
   "mimetype": "text/x-python",
   "name": "python",
   "nbconvert_exporter": "python",
   "pygments_lexer": "ipython3",
   "version": "3.7.4"
  }
 },
 "nbformat": 4,
 "nbformat_minor": 4
}
